{
 "cells": [
  {
   "cell_type": "markdown",
   "metadata": {},
   "source": [
    "### return a maskifyed string"
   ]
  },
  {
   "cell_type": "code",
   "execution_count": 10,
   "metadata": {},
   "outputs": [
    {
     "data": {
      "text/plain": [
       "'#######Hman'"
      ]
     },
     "execution_count": 10,
     "metadata": {},
     "output_type": "execute_result"
    }
   ],
   "source": [
    "def maskify(cc):\n",
    "    return \"#\"*(len(cc)-4) + cc[-4:]\n",
    "\n",
    "#execution\n",
    "\n",
    "cc = '§%§fhfgHman'\n",
    "maskify(cc)"
   ]
  },
  {
   "cell_type": "markdown",
   "metadata": {},
   "source": [
    "### num** append to list"
   ]
  },
  {
   "cell_type": "code",
   "execution_count": 85,
   "metadata": {},
   "outputs": [
    {
     "data": {
      "text/plain": [
       "641116410"
      ]
     },
     "execution_count": 85,
     "metadata": {},
     "output_type": "execute_result"
    }
   ],
   "source": [
    "num = 8111810\n",
    "def square_digits(num):\n",
    "    a =[]\n",
    "    for i in str(num):\n",
    "        a.append(str(int(i)*int(i)))\n",
    "    return int(''.join(a))\n",
    "       \n",
    "\n",
    "square_digits(num)\n",
    "\n",
    "\n"
   ]
  },
  {
   "cell_type": "markdown",
   "metadata": {},
   "source": [
    "### mama mia tribunacci tua"
   ]
  },
  {
   "cell_type": "code",
   "execution_count": 126,
   "metadata": {},
   "outputs": [],
   "source": [
    "def tribonacci(signature, n):\n",
    "    signature = signature[:n]\n",
    "    while len(signature) < n:\n",
    "        signature.append(sum(signature[-3:]))\n",
    "    return signature"
   ]
  },
  {
   "cell_type": "markdown",
   "metadata": {},
   "source": [
    "### create phonenumber fromlist"
   ]
  },
  {
   "cell_type": "code",
   "execution_count": 124,
   "metadata": {},
   "outputs": [],
   "source": [
    "def create_phone_number(n):\n",
    "     return '(' +str(n[0])+str(n[1])+str(n[2]) + ')' + ' ' + str(n[3])+str(n[4])+str(n[5])+'-' +str(n[6])+str(n[7])+str(n[8])+str(n[9])"
   ]
  },
  {
   "cell_type": "markdown",
   "metadata": {},
   "source": [
    "### count dublicates in a list"
   ]
  },
  {
   "cell_type": "code",
   "execution_count": 178,
   "metadata": {},
   "outputs": [],
   "source": [
    "def duplicate_count(text):\n",
    "    newtext = text.lower()\n",
    "    return len(set([s for s in newtext if newtext.count(s) >=2]))\n",
    "        \n",
    "    "
   ]
  },
  {
   "cell_type": "code",
   "execution_count": 179,
   "metadata": {},
   "outputs": [
    {
     "data": {
      "text/plain": [
       "6"
      ]
     },
     "execution_count": 179,
     "metadata": {},
     "output_type": "execute_result"
    }
   ],
   "source": [
    "duplicate_count('sdrtfzghuh8uguftSTWEAhhubu')"
   ]
  },
  {
   "cell_type": "code",
   "execution_count": 185,
   "metadata": {},
   "outputs": [
    {
     "name": "stdout",
     "output_type": "stream",
     "text": [
      "did not find\n"
     ]
    }
   ],
   "source": [
    "import re\n",
    "def song_decoder(song=\"AWUBWUBWUBBWUBWUBWUBC\"):\n",
    "    str = song\n",
    "    match = re.search(r'word:\\w\\w\\w', str)\n",
    "\n",
    "    if match:\n",
    "        print('found', match.group())  ## 'found word:cat'\n",
    "    else:\n",
    "        print('did not find')\n",
    "\n",
    "\n",
    "song_decoder()\n"
   ]
  },
  {
   "cell_type": "markdown",
   "metadata": {},
   "source": [
    "### sum of digits"
   ]
  },
  {
   "cell_type": "code",
   "execution_count": 1,
   "metadata": {},
   "outputs": [],
   "source": [
    "def digital_root(n):\n",
    "    while n > 9:\n",
    "         x = int(n/10)\n",
    "         y = n - (x*10)\n",
    "         n = x + y\n",
    "    return n"
   ]
  }
 ],
 "metadata": {
  "interpreter": {
   "hash": "821b59a07d50e372d8a7c4acbee1da7b92c3c5ddafc590ece2929d735229de4d"
  },
  "kernelspec": {
   "display_name": "Python 3.8.12 64-bit ('nasdaqboerse': conda)",
   "name": "python3"
  },
  "language_info": {
   "codemirror_mode": {
    "name": "ipython",
    "version": 3
   },
   "file_extension": ".py",
   "mimetype": "text/x-python",
   "name": "python",
   "nbconvert_exporter": "python",
   "pygments_lexer": "ipython3",
   "version": "3.8.12"
  },
  "orig_nbformat": 4
 },
 "nbformat": 4,
 "nbformat_minor": 2
}
