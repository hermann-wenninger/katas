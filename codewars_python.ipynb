{
 "cells": [
  {
   "cell_type": "markdown",
   "metadata": {},
   "source": [
    "### return a maskifyed string"
   ]
  },
  {
   "cell_type": "code",
   "execution_count": 10,
   "metadata": {},
   "outputs": [
    {
     "data": {
      "text/plain": [
       "'#######Hman'"
      ]
     },
     "execution_count": 10,
     "metadata": {},
     "output_type": "execute_result"
    }
   ],
   "source": [
    "def maskify(cc):\n",
    "    return \"#\"*(len(cc)-4) + cc[-4:]\n",
    "\n",
    "#execution\n",
    "\n",
    "cc = '§%§fhfgHman'\n",
    "maskify(cc)"
   ]
  },
  {
   "cell_type": "markdown",
   "metadata": {},
   "source": [
    "### num** append to list"
   ]
  },
  {
   "cell_type": "code",
   "execution_count": 85,
   "metadata": {},
   "outputs": [
    {
     "data": {
      "text/plain": [
       "641116410"
      ]
     },
     "execution_count": 85,
     "metadata": {},
     "output_type": "execute_result"
    }
   ],
   "source": [
    "num = 8111810\n",
    "def square_digits(num):\n",
    "    a =[]\n",
    "    for i in str(num):\n",
    "        a.append(str(int(i)*int(i)))\n",
    "    return int(''.join(a))\n",
    "       \n",
    "\n",
    "square_digits(num)\n",
    "\n",
    "\n"
   ]
  },
  {
   "cell_type": "markdown",
   "metadata": {},
   "source": [
    "### mama mia tribunacci tua"
   ]
  },
  {
   "cell_type": "code",
   "execution_count": 126,
   "metadata": {},
   "outputs": [],
   "source": [
    "def tribonacci(signature, n):\n",
    "    signature = signature[:n]\n",
    "    while len(signature) < n:\n",
    "        signature.append(sum(signature[-3:]))\n",
    "    return signature"
   ]
  },
  {
   "cell_type": "markdown",
   "metadata": {},
   "source": [
    "### create phonenumber fromlist"
   ]
  },
  {
   "cell_type": "code",
   "execution_count": 27,
   "metadata": {},
   "outputs": [],
   "source": [
    "def create_phone_number(n):\n",
    "     n=str(n)\n",
    "     return '(' +n[0]+n[1]+n[2] + ')' + ' ' + n[3]+n[4]+n[5]+'-' +n[6]+n[7]+n[8]+n[9]"
   ]
  },
  {
   "cell_type": "code",
   "execution_count": 28,
   "metadata": {},
   "outputs": [
    {
     "data": {
      "text/plain": [
       "'(123) 456-7890'"
      ]
     },
     "execution_count": 28,
     "metadata": {},
     "output_type": "execute_result"
    }
   ],
   "source": [
    "n= 1234567890\n",
    "create_phone_number(n)"
   ]
  },
  {
   "cell_type": "markdown",
   "metadata": {},
   "source": [
    "### count dublicates in a list"
   ]
  },
  {
   "cell_type": "code",
   "execution_count": 7,
   "metadata": {},
   "outputs": [],
   "source": [
    "def duplicate_count(text):\n",
    "    newtext = text.lower()\n",
    "    return len(set([s for s in newtext if newtext.count(s) >=2]))\n",
    "        \n",
    "    "
   ]
  },
  {
   "cell_type": "code",
   "execution_count": 8,
   "metadata": {},
   "outputs": [
    {
     "data": {
      "text/plain": [
       "6"
      ]
     },
     "execution_count": 8,
     "metadata": {},
     "output_type": "execute_result"
    }
   ],
   "source": [
    "duplicate_count('sdrtfzghuh8uguftSTWEAhhubu')"
   ]
  },
  {
   "cell_type": "code",
   "execution_count": 185,
   "metadata": {},
   "outputs": [
    {
     "name": "stdout",
     "output_type": "stream",
     "text": [
      "did not find\n"
     ]
    }
   ],
   "source": [
    "import re\n",
    "def song_decoder(song=\"AWUBWUBWUBBWUBWUBWUBC\"):\n",
    "    str = song\n",
    "    match = re.search(r'word:\\w\\w\\w', str)\n",
    "\n",
    "    if match:\n",
    "        print('found', match.group())  ## 'found word:cat'\n",
    "    else:\n",
    "        print('did not find')\n",
    "\n",
    "\n",
    "song_decoder()\n"
   ]
  },
  {
   "cell_type": "markdown",
   "metadata": {},
   "source": [
    "### sum of digits"
   ]
  },
  {
   "cell_type": "code",
   "execution_count": 3,
   "metadata": {},
   "outputs": [],
   "source": [
    "def digital_root(n):\n",
    "    while n > 9:\n",
    "         x = int(n/10)\n",
    "         y = n - (x*10)\n",
    "         n = x + y\n",
    "    return n"
   ]
  },
  {
   "cell_type": "code",
   "execution_count": 6,
   "metadata": {},
   "outputs": [
    {
     "data": {
      "text/plain": [
       "6"
      ]
     },
     "execution_count": 6,
     "metadata": {},
     "output_type": "execute_result"
    }
   ],
   "source": [
    "digital_root(123)"
   ]
  },
  {
   "cell_type": "markdown",
   "metadata": {},
   "source": [
    "### where are my anagrams"
   ]
  },
  {
   "cell_type": "code",
   "execution_count": null,
   "metadata": {},
   "outputs": [],
   "source": [
    "def anagrams(word, words):\n",
    "   return [x for x in words if sorted(x) == sorted(word)]"
   ]
  },
  {
   "cell_type": "markdown",
   "metadata": {},
   "source": [
    "### tower builder"
   ]
  },
  {
   "cell_type": "code",
   "execution_count": 1,
   "metadata": {},
   "outputs": [],
   "source": [
    "def tower_builder(lines):\n",
    "    r = 1\n",
    "    p= lines-1\n",
    "    l=[]\n",
    "    o=''\n",
    "    for i in range(lines):\n",
    "        o= p*' '\n",
    "        o+=r*'*'\n",
    "        o= o +p*' '\n",
    "        l.append(o)\n",
    "        r=r+2\n",
    "        p=p-1\n",
    "    return l"
   ]
  },
  {
   "cell_type": "code",
   "execution_count": 2,
   "metadata": {},
   "outputs": [
    {
     "data": {
      "text/plain": [
       "['      *      ',\n",
       " '     ***     ',\n",
       " '    *****    ',\n",
       " '   *******   ',\n",
       " '  *********  ',\n",
       " ' *********** ',\n",
       " '*************']"
      ]
     },
     "execution_count": 2,
     "metadata": {},
     "output_type": "execute_result"
    }
   ],
   "source": [
    "tower_builder(7)"
   ]
  },
  {
   "cell_type": "code",
   "execution_count": 2,
   "metadata": {},
   "outputs": [
    {
     "data": {
      "application/javascript": "let a = function(a){\n    console.log(a)\n}\na(7)\n",
      "text/plain": [
       "<IPython.core.display.Javascript object>"
      ]
     },
     "metadata": {},
     "output_type": "display_data"
    }
   ],
   "source": [
    "%%javascript\n",
    "let a = function(a){\n",
    "    console.log(a)\n",
    "}\n",
    "a(7)"
   ]
  },
  {
   "cell_type": "markdown",
   "metadata": {},
   "source": [
    "### how readable? coleman liau metric"
   ]
  },
  {
   "cell_type": "code",
   "execution_count": null,
   "metadata": {},
   "outputs": [],
   "source": [
    "import re\n",
    "def calculate_cli(text):\n",
    "    words = len(text.split())\n",
    "    letters = len([c for c in text if c.isalnum()])\n",
    "    sentences = len(re.split(r'\\?|\\!|(?<!\\.[A-Z])\\. ', text))\n",
    "    return round(0.0588 * (letters / words * 100) - 0.296 * (sentences / words * 100) - 15.8, 1)"
   ]
  },
  {
   "cell_type": "markdown",
   "metadata": {},
   "source": [
    "###replace with alpabet position"
   ]
  },
  {
   "cell_type": "code",
   "execution_count": 2,
   "metadata": {},
   "outputs": [
    {
     "data": {
      "text/plain": [
       "'1 19 4 6 7 8 10 11 12 15 8 23 5 18 20 26 21 9'"
      ]
     },
     "execution_count": 2,
     "metadata": {},
     "output_type": "execute_result"
    }
   ],
   "source": [
    "def alphabet_position(text):\n",
    "    import string\n",
    "    if text == None:\n",
    "        return ''\n",
    "    else:\n",
    "        d =  dict(zip(string.ascii_lowercase,range(1,len(string.ascii_lowercase)+1)))\n",
    "        e = ''\n",
    "        for i in text.lower():\n",
    "            if i in d:\n",
    "                e += str(d[i])+' '\n",
    "        \n",
    "        return e.strip()\n",
    "alphabet_position('asdfghjklohwertzui')"
   ]
  },
  {
   "cell_type": "code",
   "execution_count": null,
   "metadata": {},
   "outputs": [],
   "source": []
  }
 ],
 "metadata": {
  "interpreter": {
   "hash": "ff113b694fa590acbbdbd43c9f3ab9ae8a687a5ddcdd6cf59dfb85f952c4f0ef"
  },
  "kernelspec": {
   "display_name": "Python 3.8.12 64-bit ('django_pros': conda)",
   "name": "python3"
  },
  "language_info": {
   "codemirror_mode": {
    "name": "ipython",
    "version": 3
   },
   "file_extension": ".py",
   "mimetype": "text/x-python",
   "name": "python",
   "nbconvert_exporter": "python",
   "pygments_lexer": "ipython3",
   "version": "3.8.12"
  },
  "orig_nbformat": 4
 },
 "nbformat": 4,
 "nbformat_minor": 2
}
